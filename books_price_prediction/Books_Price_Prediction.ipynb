{
  "nbformat": 4,
  "nbformat_minor": 0,
  "metadata": {
    "colab": {
      "name": "Books-Price-Prediction.ipynb",
      "provenance": [],
      "toc_visible": true
    },
    "kernelspec": {
      "name": "python3",
      "display_name": "Python 3"
    }
  },
  "cells": [
    {
      "cell_type": "code",
      "metadata": {
        "id": "M_j3sFAuiSzd"
      },
      "source": [
        "import pandas as pd\r\n",
        "import numpy as np\r\n",
        "import matplotlib.pyplot as plt"
      ],
      "execution_count": null,
      "outputs": []
    },
    {
      "cell_type": "markdown",
      "metadata": {
        "id": "aoITAR-1riuy"
      },
      "source": [
        "## Getting the Data Ready"
      ]
    },
    {
      "cell_type": "code",
      "metadata": {
        "id": "Q4noxZi0kpJi"
      },
      "source": [
        "df = pd.read_excel(\"/content/drive/MyDrive/Books Data/Data_Train.xlsx\")"
      ],
      "execution_count": null,
      "outputs": []
    },
    {
      "cell_type": "code",
      "metadata": {
        "colab": {
          "base_uri": "https://localhost:8080/",
          "height": 313
        },
        "id": "fl5ww7NQlTkv",
        "outputId": "af7bb244-3ab8-4ec7-a2b2-2cbb68f10915"
      },
      "source": [
        "df.head()"
      ],
      "execution_count": null,
      "outputs": [
        {
          "output_type": "execute_result",
          "data": {
            "text/html": [
              "<div>\n",
              "<style scoped>\n",
              "    .dataframe tbody tr th:only-of-type {\n",
              "        vertical-align: middle;\n",
              "    }\n",
              "\n",
              "    .dataframe tbody tr th {\n",
              "        vertical-align: top;\n",
              "    }\n",
              "\n",
              "    .dataframe thead th {\n",
              "        text-align: right;\n",
              "    }\n",
              "</style>\n",
              "<table border=\"1\" class=\"dataframe\">\n",
              "  <thead>\n",
              "    <tr style=\"text-align: right;\">\n",
              "      <th></th>\n",
              "      <th>Title</th>\n",
              "      <th>Author</th>\n",
              "      <th>Edition</th>\n",
              "      <th>Reviews</th>\n",
              "      <th>Ratings</th>\n",
              "      <th>Synopsis</th>\n",
              "      <th>Genre</th>\n",
              "      <th>BookCategory</th>\n",
              "      <th>Price</th>\n",
              "    </tr>\n",
              "  </thead>\n",
              "  <tbody>\n",
              "    <tr>\n",
              "      <th>0</th>\n",
              "      <td>The Prisoner's Gold (The Hunters 3)</td>\n",
              "      <td>Chris Kuzneski</td>\n",
              "      <td>Paperback,– 10 Mar 2016</td>\n",
              "      <td>4.0 out of 5 stars</td>\n",
              "      <td>8 customer reviews</td>\n",
              "      <td>THE HUNTERS return in their third brilliant no...</td>\n",
              "      <td>Action &amp; Adventure (Books)</td>\n",
              "      <td>Action &amp; Adventure</td>\n",
              "      <td>220.00</td>\n",
              "    </tr>\n",
              "    <tr>\n",
              "      <th>1</th>\n",
              "      <td>Guru Dutt: A Tragedy in Three Acts</td>\n",
              "      <td>Arun Khopkar</td>\n",
              "      <td>Paperback,– 7 Nov 2012</td>\n",
              "      <td>3.9 out of 5 stars</td>\n",
              "      <td>14 customer reviews</td>\n",
              "      <td>A layered portrait of a troubled genius for wh...</td>\n",
              "      <td>Cinema &amp; Broadcast (Books)</td>\n",
              "      <td>Biographies, Diaries &amp; True Accounts</td>\n",
              "      <td>202.93</td>\n",
              "    </tr>\n",
              "    <tr>\n",
              "      <th>2</th>\n",
              "      <td>Leviathan (Penguin Classics)</td>\n",
              "      <td>Thomas Hobbes</td>\n",
              "      <td>Paperback,– 25 Feb 1982</td>\n",
              "      <td>4.8 out of 5 stars</td>\n",
              "      <td>6 customer reviews</td>\n",
              "      <td>\"During the time men live without a common Pow...</td>\n",
              "      <td>International Relations</td>\n",
              "      <td>Humour</td>\n",
              "      <td>299.00</td>\n",
              "    </tr>\n",
              "    <tr>\n",
              "      <th>3</th>\n",
              "      <td>A Pocket Full of Rye (Miss Marple)</td>\n",
              "      <td>Agatha Christie</td>\n",
              "      <td>Paperback,– 5 Oct 2017</td>\n",
              "      <td>4.1 out of 5 stars</td>\n",
              "      <td>13 customer reviews</td>\n",
              "      <td>A handful of grain is found in the pocket of a...</td>\n",
              "      <td>Contemporary Fiction (Books)</td>\n",
              "      <td>Crime, Thriller &amp; Mystery</td>\n",
              "      <td>180.00</td>\n",
              "    </tr>\n",
              "    <tr>\n",
              "      <th>4</th>\n",
              "      <td>LIFE 70 Years of Extraordinary Photography</td>\n",
              "      <td>Editors of Life</td>\n",
              "      <td>Hardcover,– 10 Oct 2006</td>\n",
              "      <td>5.0 out of 5 stars</td>\n",
              "      <td>1 customer review</td>\n",
              "      <td>For seven decades, \"Life\" has been thrilling t...</td>\n",
              "      <td>Photography Textbooks</td>\n",
              "      <td>Arts, Film &amp; Photography</td>\n",
              "      <td>965.62</td>\n",
              "    </tr>\n",
              "  </tbody>\n",
              "</table>\n",
              "</div>"
            ],
            "text/plain": [
              "                                        Title  ...   Price\n",
              "0         The Prisoner's Gold (The Hunters 3)  ...  220.00\n",
              "1          Guru Dutt: A Tragedy in Three Acts  ...  202.93\n",
              "2                Leviathan (Penguin Classics)  ...  299.00\n",
              "3          A Pocket Full of Rye (Miss Marple)  ...  180.00\n",
              "4  LIFE 70 Years of Extraordinary Photography  ...  965.62\n",
              "\n",
              "[5 rows x 9 columns]"
            ]
          },
          "metadata": {
            "tags": []
          },
          "execution_count": 3
        }
      ]
    },
    {
      "cell_type": "code",
      "metadata": {
        "colab": {
          "base_uri": "https://localhost:8080/"
        },
        "id": "DQINvfC1omNJ",
        "outputId": "e02f314b-25ae-4e81-99f8-7a702525fb9e"
      },
      "source": [
        "df.info()"
      ],
      "execution_count": null,
      "outputs": [
        {
          "output_type": "stream",
          "text": [
            "<class 'pandas.core.frame.DataFrame'>\n",
            "RangeIndex: 6237 entries, 0 to 6236\n",
            "Data columns (total 9 columns):\n",
            " #   Column        Non-Null Count  Dtype  \n",
            "---  ------        --------------  -----  \n",
            " 0   Title         6237 non-null   object \n",
            " 1   Author        6237 non-null   object \n",
            " 2   Edition       6237 non-null   object \n",
            " 3   Reviews       6237 non-null   object \n",
            " 4   Ratings       6237 non-null   object \n",
            " 5   Synopsis      6237 non-null   object \n",
            " 6   Genre         6237 non-null   object \n",
            " 7   BookCategory  6237 non-null   object \n",
            " 8   Price         6237 non-null   float64\n",
            "dtypes: float64(1), object(8)\n",
            "memory usage: 438.7+ KB\n"
          ],
          "name": "stdout"
        }
      ]
    },
    {
      "cell_type": "code",
      "metadata": {
        "colab": {
          "base_uri": "https://localhost:8080/"
        },
        "id": "R-OZ6CKhovme",
        "outputId": "4bdf4e74-50fc-49a4-d26b-9b082ef4c241"
      },
      "source": [
        "len(df)"
      ],
      "execution_count": null,
      "outputs": [
        {
          "output_type": "execute_result",
          "data": {
            "text/plain": [
              "6237"
            ]
          },
          "metadata": {
            "tags": []
          },
          "execution_count": 5
        }
      ]
    },
    {
      "cell_type": "code",
      "metadata": {
        "colab": {
          "base_uri": "https://localhost:8080/"
        },
        "id": "TceoZr9qozPi",
        "outputId": "3ab65b77-6bc0-4848-f9cb-84c05317d68c"
      },
      "source": [
        "df.isna().sum()"
      ],
      "execution_count": null,
      "outputs": [
        {
          "output_type": "execute_result",
          "data": {
            "text/plain": [
              "Title           0\n",
              "Author          0\n",
              "Edition         0\n",
              "Reviews         0\n",
              "Ratings         0\n",
              "Synopsis        0\n",
              "Genre           0\n",
              "BookCategory    0\n",
              "Price           0\n",
              "dtype: int64"
            ]
          },
          "metadata": {
            "tags": []
          },
          "execution_count": 6
        }
      ]
    },
    {
      "cell_type": "code",
      "metadata": {
        "colab": {
          "base_uri": "https://localhost:8080/"
        },
        "id": "PtAqPTixpCNR",
        "outputId": "76daacaf-1a83-4064-d618-06a814b4586d"
      },
      "source": [
        "df.columns"
      ],
      "execution_count": null,
      "outputs": [
        {
          "output_type": "execute_result",
          "data": {
            "text/plain": [
              "Index(['Title', 'Author', 'Edition', 'Reviews', 'Ratings', 'Synopsis', 'Genre',\n",
              "       'BookCategory', 'Price'],\n",
              "      dtype='object')"
            ]
          },
          "metadata": {
            "tags": []
          },
          "execution_count": 7
        }
      ]
    },
    {
      "cell_type": "code",
      "metadata": {
        "id": "iJyDRXKZpg-9",
        "colab": {
          "base_uri": "https://localhost:8080/",
          "height": 282
        },
        "outputId": "1fa76e7e-6773-4ac0-97a1-8f1e14536851"
      },
      "source": [
        "df.Price.plot.hist()"
      ],
      "execution_count": null,
      "outputs": [
        {
          "output_type": "execute_result",
          "data": {
            "text/plain": [
              "<matplotlib.axes._subplots.AxesSubplot at 0x7f7a6fa76a20>"
            ]
          },
          "metadata": {
            "tags": []
          },
          "execution_count": 8
        },
        {
          "output_type": "display_data",
          "data": {
            "image/png": "[encoded data removed]",
            "text/plain": [
              "<Figure size 432x288 with 1 Axes>"
            ]
          },
          "metadata": {
            "tags": [],
            "needs_background": "light"
          }
        }
      ]
    },
    {
      "cell_type": "markdown",
      "metadata": {
        "id": "I2t_K-21sXfA"
      },
      "source": [
        "### Make a copy of original dataframe"
      ]
    },
    {
      "cell_type": "code",
      "metadata": {
        "id": "wI9_FYXNsM0J"
      },
      "source": [
        "df_tmp = df.copy()"
      ],
      "execution_count": null,
      "outputs": []
    },
    {
      "cell_type": "code",
      "metadata": {
        "colab": {
          "base_uri": "https://localhost:8080/",
          "height": 654
        },
        "id": "YNhWGdAxsg0x",
        "outputId": "91290396-3d21-4a60-b092-80ee4e10359e"
      },
      "source": [
        "df_tmp"
      ],
      "execution_count": null,
      "outputs": [
        {
          "output_type": "execute_result",
          "data": {
            "text/html": [
              "<div>\n",
              "<style scoped>\n",
              "    .dataframe tbody tr th:only-of-type {\n",
              "        vertical-align: middle;\n",
              "    }\n",
              "\n",
              "    .dataframe tbody tr th {\n",
              "        vertical-align: top;\n",
              "    }\n",
              "\n",
              "    .dataframe thead th {\n",
              "        text-align: right;\n",
              "    }\n",
              "</style>\n",
              "<table border=\"1\" class=\"dataframe\">\n",
              "  <thead>\n",
              "    <tr style=\"text-align: right;\">\n",
              "      <th></th>\n",
              "      <th>Title</th>\n",
              "      <th>Author</th>\n",
              "      <th>Edition</th>\n",
              "      <th>Reviews</th>\n",
              "      <th>Ratings</th>\n",
              "      <th>Synopsis</th>\n",
              "      <th>Genre</th>\n",
              "      <th>BookCategory</th>\n",
              "      <th>Price</th>\n",
              "    </tr>\n",
              "  </thead>\n",
              "  <tbody>\n",
              "    <tr>\n",
              "      <th>0</th>\n",
              "      <td>The Prisoner's Gold (The Hunters 3)</td>\n",
              "      <td>Chris Kuzneski</td>\n",
              "      <td>Paperback,– 10 Mar 2016</td>\n",
              "      <td>4.0 out of 5 stars</td>\n",
              "      <td>8 customer reviews</td>\n",
              "      <td>THE HUNTERS return in their third brilliant no...</td>\n",
              "      <td>Action &amp; Adventure (Books)</td>\n",
              "      <td>Action &amp; Adventure</td>\n",
              "      <td>220.00</td>\n",
              "    </tr>\n",
              "    <tr>\n",
              "      <th>1</th>\n",
              "      <td>Guru Dutt: A Tragedy in Three Acts</td>\n",
              "      <td>Arun Khopkar</td>\n",
              "      <td>Paperback,– 7 Nov 2012</td>\n",
              "      <td>3.9 out of 5 stars</td>\n",
              "      <td>14 customer reviews</td>\n",
              "      <td>A layered portrait of a troubled genius for wh...</td>\n",
              "      <td>Cinema &amp; Broadcast (Books)</td>\n",
              "      <td>Biographies, Diaries &amp; True Accounts</td>\n",
              "      <td>202.93</td>\n",
              "    </tr>\n",
              "    <tr>\n",
              "      <th>2</th>\n",
              "      <td>Leviathan (Penguin Classics)</td>\n",
              "      <td>Thomas Hobbes</td>\n",
              "      <td>Paperback,– 25 Feb 1982</td>\n",
              "      <td>4.8 out of 5 stars</td>\n",
              "      <td>6 customer reviews</td>\n",
              "      <td>\"During the time men live without a common Pow...</td>\n",
              "      <td>International Relations</td>\n",
              "      <td>Humour</td>\n",
              "      <td>299.00</td>\n",
              "    </tr>\n",
              "    <tr>\n",
              "      <th>3</th>\n",
              "      <td>A Pocket Full of Rye (Miss Marple)</td>\n",
              "      <td>Agatha Christie</td>\n",
              "      <td>Paperback,– 5 Oct 2017</td>\n",
              "      <td>4.1 out of 5 stars</td>\n",
              "      <td>13 customer reviews</td>\n",
              "      <td>A handful of grain is found in the pocket of a...</td>\n",
              "      <td>Contemporary Fiction (Books)</td>\n",
              "      <td>Crime, Thriller &amp; Mystery</td>\n",
              "      <td>180.00</td>\n",
              "    </tr>\n",
              "    <tr>\n",
              "      <th>4</th>\n",
              "      <td>LIFE 70 Years of Extraordinary Photography</td>\n",
              "      <td>Editors of Life</td>\n",
              "      <td>Hardcover,– 10 Oct 2006</td>\n",
              "      <td>5.0 out of 5 stars</td>\n",
              "      <td>1 customer review</td>\n",
              "      <td>For seven decades, \"Life\" has been thrilling t...</td>\n",
              "      <td>Photography Textbooks</td>\n",
              "      <td>Arts, Film &amp; Photography</td>\n",
              "      <td>965.62</td>\n",
              "    </tr>\n",
              "    <tr>\n",
              "      <th>...</th>\n",
              "      <td>...</td>\n",
              "      <td>...</td>\n",
              "      <td>...</td>\n",
              "      <td>...</td>\n",
              "      <td>...</td>\n",
              "      <td>...</td>\n",
              "      <td>...</td>\n",
              "      <td>...</td>\n",
              "      <td>...</td>\n",
              "    </tr>\n",
              "    <tr>\n",
              "      <th>6232</th>\n",
              "      <td>Humans: A Brief History of How We F*cked It Al...</td>\n",
              "      <td>Tom Phillips</td>\n",
              "      <td>Paperback,– 8 Aug 2018</td>\n",
              "      <td>5.0 out of 5 stars</td>\n",
              "      <td>2 customer reviews</td>\n",
              "      <td>'F*cking brilliant' Sarah Knight\\n'Very funny'...</td>\n",
              "      <td>Anthropology (Books)</td>\n",
              "      <td>Humour</td>\n",
              "      <td>322.00</td>\n",
              "    </tr>\n",
              "    <tr>\n",
              "      <th>6233</th>\n",
              "      <td>The Chemist</td>\n",
              "      <td>Stephenie Meyer</td>\n",
              "      <td>Paperback,– 21 Nov 2016</td>\n",
              "      <td>3.3 out of 5 stars</td>\n",
              "      <td>9 customer reviews</td>\n",
              "      <td>In this gripping page-turner, an ex-agent on t...</td>\n",
              "      <td>Contemporary Fiction (Books)</td>\n",
              "      <td>Crime, Thriller &amp; Mystery</td>\n",
              "      <td>421.00</td>\n",
              "    </tr>\n",
              "    <tr>\n",
              "      <th>6234</th>\n",
              "      <td>The Duke And I: Number 1 in series (Bridgerton...</td>\n",
              "      <td>Julia Quinn</td>\n",
              "      <td>Paperback,– 8 Jun 2006</td>\n",
              "      <td>3.8 out of 5 stars</td>\n",
              "      <td>3 customer reviews</td>\n",
              "      <td>'The most refreshing and radiant love story yo...</td>\n",
              "      <td>Romance (Books)</td>\n",
              "      <td>Romance</td>\n",
              "      <td>399.00</td>\n",
              "    </tr>\n",
              "    <tr>\n",
              "      <th>6235</th>\n",
              "      <td>Frostfire (Kanin Chronicles)</td>\n",
              "      <td>Amanda Hocking</td>\n",
              "      <td>Paperback,– 15 Jan 2015</td>\n",
              "      <td>3.5 out of 5 stars</td>\n",
              "      <td>4 customer reviews</td>\n",
              "      <td>Frostfire by Amanda Hocking is the stunning fi...</td>\n",
              "      <td>Action &amp; Adventure (Books)</td>\n",
              "      <td>Action &amp; Adventure</td>\n",
              "      <td>319.00</td>\n",
              "    </tr>\n",
              "    <tr>\n",
              "      <th>6236</th>\n",
              "      <td>The First Order (Sam Capra)</td>\n",
              "      <td>Jeff Abbott</td>\n",
              "      <td>Paperback,– 21 Dec 2016</td>\n",
              "      <td>3.9 out of 5 stars</td>\n",
              "      <td>2 customer reviews</td>\n",
              "      <td>Six years ago, Sam Capra watched his brother, ...</td>\n",
              "      <td>Action &amp; Adventure (Books)</td>\n",
              "      <td>Action &amp; Adventure</td>\n",
              "      <td>452.00</td>\n",
              "    </tr>\n",
              "  </tbody>\n",
              "</table>\n",
              "<p>6237 rows × 9 columns</p>\n",
              "</div>"
            ],
            "text/plain": [
              "                                                  Title  ...   Price\n",
              "0                   The Prisoner's Gold (The Hunters 3)  ...  220.00\n",
              "1                    Guru Dutt: A Tragedy in Three Acts  ...  202.93\n",
              "2                          Leviathan (Penguin Classics)  ...  299.00\n",
              "3                    A Pocket Full of Rye (Miss Marple)  ...  180.00\n",
              "4            LIFE 70 Years of Extraordinary Photography  ...  965.62\n",
              "...                                                 ...  ...     ...\n",
              "6232  Humans: A Brief History of How We F*cked It Al...  ...  322.00\n",
              "6233                                        The Chemist  ...  421.00\n",
              "6234  The Duke And I: Number 1 in series (Bridgerton...  ...  399.00\n",
              "6235                       Frostfire (Kanin Chronicles)  ...  319.00\n",
              "6236                        The First Order (Sam Capra)  ...  452.00\n",
              "\n",
              "[6237 rows x 9 columns]"
            ]
          },
          "metadata": {
            "tags": []
          },
          "execution_count": 10
        }
      ]
    },
    {
      "cell_type": "markdown",
      "metadata": {
        "id": "Wske_DXUsplo"
      },
      "source": [
        "### Lets convert data in categories"
      ]
    },
    {
      "cell_type": "code",
      "metadata": {
        "colab": {
          "base_uri": "https://localhost:8080/"
        },
        "id": "cvs-bKtJsjOB",
        "outputId": "b7b39760-457d-462f-cf65-b7b0561a613f"
      },
      "source": [
        "pd.api.types.is_string_dtype(df_tmp[\"Title\"])"
      ],
      "execution_count": null,
      "outputs": [
        {
          "output_type": "execute_result",
          "data": {
            "text/plain": [
              "True"
            ]
          },
          "metadata": {
            "tags": []
          },
          "execution_count": 11
        }
      ]
    },
    {
      "cell_type": "code",
      "metadata": {
        "colab": {
          "base_uri": "https://localhost:8080/"
        },
        "id": "y2vk6WoBtFAf",
        "outputId": "7a397786-3a44-4f1b-c83a-c316597ad08a"
      },
      "source": [
        "for label, content in df_tmp.items():\r\n",
        "  if pd.api.types.is_string_dtype(content):\r\n",
        "    print(label)"
      ],
      "execution_count": null,
      "outputs": [
        {
          "output_type": "stream",
          "text": [
            "Title\n",
            "Author\n",
            "Edition\n",
            "Reviews\n",
            "Ratings\n",
            "Synopsis\n",
            "Genre\n",
            "BookCategory\n"
          ],
          "name": "stdout"
        }
      ]
    },
    {
      "cell_type": "code",
      "metadata": {
        "id": "Wd-x7JietYHZ"
      },
      "source": [
        "for label, content in df_tmp.items():\r\n",
        "  if pd.api.types.is_string_dtype(content):\r\n",
        "    df_tmp[label] = content.astype(\"category\").cat.as_ordered()\r\n",
        "    df_tmp[label] = pd.Categorical(content).codes+1"
      ],
      "execution_count": null,
      "outputs": []
    },
    {
      "cell_type": "code",
      "metadata": {
        "colab": {
          "base_uri": "https://localhost:8080/"
        },
        "id": "29JSJWaUt0I0",
        "outputId": "55a1f31a-1626-49e3-c8ce-1b7a351aa682"
      },
      "source": [
        "df_tmp.info()"
      ],
      "execution_count": null,
      "outputs": [
        {
          "output_type": "stream",
          "text": [
            "<class 'pandas.core.frame.DataFrame'>\n",
            "RangeIndex: 6237 entries, 0 to 6236\n",
            "Data columns (total 9 columns):\n",
            " #   Column        Non-Null Count  Dtype  \n",
            "---  ------        --------------  -----  \n",
            " 0   Title         6237 non-null   int16  \n",
            " 1   Author        6237 non-null   int16  \n",
            " 2   Edition       6237 non-null   int16  \n",
            " 3   Reviews       6237 non-null   int8   \n",
            " 4   Ratings       6237 non-null   int16  \n",
            " 5   Synopsis      6237 non-null   int16  \n",
            " 6   Genre         6237 non-null   int16  \n",
            " 7   BookCategory  6237 non-null   int8   \n",
            " 8   Price         6237 non-null   float64\n",
            "dtypes: float64(1), int16(6), int8(2)\n",
            "memory usage: 134.1 KB\n"
          ],
          "name": "stdout"
        }
      ]
    },
    {
      "cell_type": "code",
      "metadata": {
        "colab": {
          "base_uri": "https://localhost:8080/"
        },
        "id": "juUL3zmJt-c9",
        "outputId": "e68400cb-0fd4-4b2d-ac96-ca65cfc08e9a"
      },
      "source": [
        "df_tmp.Author.value_counts()"
      ],
      "execution_count": null,
      "outputs": [
        {
          "output_type": "execute_result",
          "data": {
            "text/plain": [
              "63      69\n",
              "1869    49\n",
              "698     48\n",
              "101     34\n",
              "1295    34\n",
              "        ..\n",
              "870      1\n",
              "2915     1\n",
              "866      1\n",
              "2911     1\n",
              "2049     1\n",
              "Name: Author, Length: 3679, dtype: int64"
            ]
          },
          "metadata": {
            "tags": []
          },
          "execution_count": 15
        }
      ]
    },
    {
      "cell_type": "markdown",
      "metadata": {
        "id": "Qm-G4nFAuihn"
      },
      "source": [
        "### Save Preprocesssed Data"
      ]
    },
    {
      "cell_type": "code",
      "metadata": {
        "id": "yHzs2nomuVMd"
      },
      "source": [
        "df_tmp.to_csv(\"/content/drive/MyDrive/Books Data/Train_tmp.csv\", index=False)"
      ],
      "execution_count": null,
      "outputs": []
    },
    {
      "cell_type": "code",
      "metadata": {
        "colab": {
          "base_uri": "https://localhost:8080/"
        },
        "id": "NmF_Gs6BvHjF",
        "outputId": "189c002a-dc22-441f-9dac-bd1c499323ab"
      },
      "source": [
        "df_tmp.info()"
      ],
      "execution_count": null,
      "outputs": [
        {
          "output_type": "stream",
          "text": [
            "<class 'pandas.core.frame.DataFrame'>\n",
            "RangeIndex: 6237 entries, 0 to 6236\n",
            "Data columns (total 9 columns):\n",
            " #   Column        Non-Null Count  Dtype  \n",
            "---  ------        --------------  -----  \n",
            " 0   Title         6237 non-null   int16  \n",
            " 1   Author        6237 non-null   int16  \n",
            " 2   Edition       6237 non-null   int16  \n",
            " 3   Reviews       6237 non-null   int8   \n",
            " 4   Ratings       6237 non-null   int16  \n",
            " 5   Synopsis      6237 non-null   int16  \n",
            " 6   Genre         6237 non-null   int16  \n",
            " 7   BookCategory  6237 non-null   int8   \n",
            " 8   Price         6237 non-null   float64\n",
            "dtypes: float64(1), int16(6), int8(2)\n",
            "memory usage: 134.1 KB\n"
          ],
          "name": "stdout"
        }
      ]
    },
    {
      "cell_type": "code",
      "metadata": {
        "colab": {
          "base_uri": "https://localhost:8080/"
        },
        "id": "ih4yfuT41R7_",
        "outputId": "712e0614-2041-499e-f315-546603cb203b"
      },
      "source": [
        "df_tmp.info()"
      ],
      "execution_count": null,
      "outputs": [
        {
          "output_type": "stream",
          "text": [
            "<class 'pandas.core.frame.DataFrame'>\n",
            "RangeIndex: 6237 entries, 0 to 6236\n",
            "Data columns (total 9 columns):\n",
            " #   Column        Non-Null Count  Dtype  \n",
            "---  ------        --------------  -----  \n",
            " 0   Title         6237 non-null   int16  \n",
            " 1   Author        6237 non-null   int16  \n",
            " 2   Edition       6237 non-null   int16  \n",
            " 3   Reviews       6237 non-null   int8   \n",
            " 4   Ratings       6237 non-null   int16  \n",
            " 5   Synopsis      6237 non-null   int16  \n",
            " 6   Genre         6237 non-null   int16  \n",
            " 7   BookCategory  6237 non-null   int8   \n",
            " 8   Price         6237 non-null   float64\n",
            "dtypes: float64(1), int16(6), int8(2)\n",
            "memory usage: 134.1 KB\n"
          ],
          "name": "stdout"
        }
      ]
    },
    {
      "cell_type": "markdown",
      "metadata": {
        "id": "CPr-LIREwjom"
      },
      "source": [
        "## Modelling"
      ]
    },
    {
      "cell_type": "code",
      "metadata": {
        "colab": {
          "base_uri": "https://localhost:8080/"
        },
        "id": "eZnjsDiTvpgf",
        "outputId": "a9474f89-e3a9-438f-e0f4-72ebe7b329b4"
      },
      "source": [
        "np.random.seed(42)\r\n",
        "# Import the model\r\n",
        "from sklearn.ensemble import RandomForestRegressor\r\n",
        "from sklearn.model_selection import train_test_split\r\n",
        "\r\n",
        "X = df_tmp.drop(\"Price\", axis=1)\r\n",
        "y = df_tmp[\"Price\"]\r\n",
        "\r\n",
        "# Split the data into training and Validation sets\r\n",
        "X_train, X_valid, y_train, y_valid = train_test_split(X, y, test_size = 0.2)\r\n",
        "\r\n",
        "# Instantiate the model\r\n",
        "model = RandomForestRegressor()\r\n",
        "\r\n",
        "# Fit the model\r\n",
        "model.fit(X_train, y_train)"
      ],
      "execution_count": null,
      "outputs": [
        {
          "output_type": "execute_result",
          "data": {
            "text/plain": [
              "RandomForestRegressor(bootstrap=True, ccp_alpha=0.0, criterion='mse',\n",
              "                      max_depth=None, max_features='auto', max_leaf_nodes=None,\n",
              "                      max_samples=None, min_impurity_decrease=0.0,\n",
              "                      min_impurity_split=None, min_samples_leaf=1,\n",
              "                      min_samples_split=2, min_weight_fraction_leaf=0.0,\n",
              "                      n_estimators=100, n_jobs=None, oob_score=False,\n",
              "                      random_state=None, verbose=0, warm_start=False)"
            ]
          },
          "metadata": {
            "tags": []
          },
          "execution_count": 19
        }
      ]
    },
    {
      "cell_type": "code",
      "metadata": {
        "colab": {
          "base_uri": "https://localhost:8080/",
          "height": 195
        },
        "id": "11wSnyyPxt8K",
        "outputId": "26fc8190-4fb8-446a-9374-f2bb6a816785"
      },
      "source": [
        "df_tmp.head()"
      ],
      "execution_count": null,
      "outputs": [
        {
          "output_type": "execute_result",
          "data": {
            "text/html": [
              "<div>\n",
              "<style scoped>\n",
              "    .dataframe tbody tr th:only-of-type {\n",
              "        vertical-align: middle;\n",
              "    }\n",
              "\n",
              "    .dataframe tbody tr th {\n",
              "        vertical-align: top;\n",
              "    }\n",
              "\n",
              "    .dataframe thead th {\n",
              "        text-align: right;\n",
              "    }\n",
              "</style>\n",
              "<table border=\"1\" class=\"dataframe\">\n",
              "  <thead>\n",
              "    <tr style=\"text-align: right;\">\n",
              "      <th></th>\n",
              "      <th>Title</th>\n",
              "      <th>Author</th>\n",
              "      <th>Edition</th>\n",
              "      <th>Reviews</th>\n",
              "      <th>Ratings</th>\n",
              "      <th>Synopsis</th>\n",
              "      <th>Genre</th>\n",
              "      <th>BookCategory</th>\n",
              "      <th>Price</th>\n",
              "    </tr>\n",
              "  </thead>\n",
              "  <tbody>\n",
              "    <tr>\n",
              "      <th>0</th>\n",
              "      <td>4764</td>\n",
              "      <td>616</td>\n",
              "      <td>1043</td>\n",
              "      <td>26</td>\n",
              "      <td>301</td>\n",
              "      <td>3761</td>\n",
              "      <td>2</td>\n",
              "      <td>1</td>\n",
              "      <td>220.00</td>\n",
              "    </tr>\n",
              "    <tr>\n",
              "      <th>1</th>\n",
              "      <td>1722</td>\n",
              "      <td>308</td>\n",
              "      <td>2763</td>\n",
              "      <td>25</td>\n",
              "      <td>55</td>\n",
              "      <td>587</td>\n",
              "      <td>75</td>\n",
              "      <td>3</td>\n",
              "      <td>202.93</td>\n",
              "    </tr>\n",
              "    <tr>\n",
              "      <th>2</th>\n",
              "      <td>2447</td>\n",
              "      <td>3391</td>\n",
              "      <td>1961</td>\n",
              "      <td>34</td>\n",
              "      <td>266</td>\n",
              "      <td>32</td>\n",
              "      <td>194</td>\n",
              "      <td>7</td>\n",
              "      <td>299.00</td>\n",
              "    </tr>\n",
              "    <tr>\n",
              "      <th>3</th>\n",
              "      <td>156</td>\n",
              "      <td>63</td>\n",
              "      <td>2616</td>\n",
              "      <td>27</td>\n",
              "      <td>46</td>\n",
              "      <td>561</td>\n",
              "      <td>93</td>\n",
              "      <td>6</td>\n",
              "      <td>180.00</td>\n",
              "    </tr>\n",
              "    <tr>\n",
              "      <th>4</th>\n",
              "      <td>2344</td>\n",
              "      <td>954</td>\n",
              "      <td>82</td>\n",
              "      <td>36</td>\n",
              "      <td>1</td>\n",
              "      <td>1823</td>\n",
              "      <td>254</td>\n",
              "      <td>2</td>\n",
              "      <td>965.62</td>\n",
              "    </tr>\n",
              "  </tbody>\n",
              "</table>\n",
              "</div>"
            ],
            "text/plain": [
              "   Title  Author  Edition  Reviews  ...  Synopsis  Genre  BookCategory   Price\n",
              "0   4764     616     1043       26  ...      3761      2             1  220.00\n",
              "1   1722     308     2763       25  ...       587     75             3  202.93\n",
              "2   2447    3391     1961       34  ...        32    194             7  299.00\n",
              "3    156      63     2616       27  ...       561     93             6  180.00\n",
              "4   2344     954       82       36  ...      1823    254             2  965.62\n",
              "\n",
              "[5 rows x 9 columns]"
            ]
          },
          "metadata": {
            "tags": []
          },
          "execution_count": 20
        }
      ]
    },
    {
      "cell_type": "code",
      "metadata": {
        "colab": {
          "base_uri": "https://localhost:8080/"
        },
        "id": "BHFDmoyWyTN6",
        "outputId": "7fea219b-4ebd-4403-8ecc-00bedd0dcddd"
      },
      "source": [
        "df_tmp['Title'].dtype"
      ],
      "execution_count": null,
      "outputs": [
        {
          "output_type": "execute_result",
          "data": {
            "text/plain": [
              "dtype('int16')"
            ]
          },
          "metadata": {
            "tags": []
          },
          "execution_count": 21
        }
      ]
    },
    {
      "cell_type": "code",
      "metadata": {
        "colab": {
          "base_uri": "https://localhost:8080/"
        },
        "id": "5kRs8Y1xyY37",
        "outputId": "4604a4cf-9081-4927-89d6-f2af4ca6c553"
      },
      "source": [
        "model.score(X_train, y_train)"
      ],
      "execution_count": null,
      "outputs": [
        {
          "output_type": "execute_result",
          "data": {
            "text/plain": [
              "0.8748722028615713"
            ]
          },
          "metadata": {
            "tags": []
          },
          "execution_count": 22
        }
      ]
    },
    {
      "cell_type": "markdown",
      "metadata": {
        "id": "qqOmWyxn2lVk"
      },
      "source": [
        "## Building an Evaluation Function"
      ]
    },
    {
      "cell_type": "code",
      "metadata": {
        "id": "xLDrh3x62lDv"
      },
      "source": [
        "# Create a Evaluation Function\r\n",
        "from sklearn.metrics import mean_squared_log_error, mean_absolute_error, r2_score\r\n",
        "\r\n",
        "def rmsle(y_test, y_preds):\r\n",
        "  \"\"\" \r\n",
        "  Calculate the root mean squared log error between predictions and true labels.\r\n",
        "  \"\"\"\r\n",
        "  return np.sqrt(mean_squared_log_error(y_test, y_preds))\r\n",
        "\r\n",
        "# Create function to evaluate model on a few different levels\r\n",
        "def show_scores(model):\r\n",
        "  train_preds = model.predict(X_train)\r\n",
        "  valid_preds = model.predict(X_valid)\r\n",
        "  scores = {\"Training MAE\" : mean_absolute_error(y_train, train_preds),\r\n",
        "            \"Valid MAE\" : mean_absolute_error(y_valid, valid_preds),\r\n",
        "            \"Training rmsle\" : rmsle(y_train, train_preds),\r\n",
        "            \"Valid rmsle\" : rmsle(y_valid, valid_preds),\r\n",
        "            \"Training r2_score\" : r2_score(y_train, train_preds),\r\n",
        "            \"Valid r2_score\" : r2_score(y_valid, valid_preds)}\r\n",
        "  return scores"
      ],
      "execution_count": null,
      "outputs": []
    },
    {
      "cell_type": "code",
      "metadata": {
        "colab": {
          "base_uri": "https://localhost:8080/"
        },
        "id": "V3a-urOC2e1i",
        "outputId": "77ce10a6-e9e4-45b4-89d7-e7c206beaf1e"
      },
      "source": [
        "show_scores(model)"
      ],
      "execution_count": null,
      "outputs": [
        {
          "output_type": "execute_result",
          "data": {
            "text/plain": [
              "{'Training MAE': 118.39643576912064,\n",
              " 'Training r2_score': 0.8748722028615713,\n",
              " 'Training rmsle': 0.34405761342787805,\n",
              " 'Valid MAE': 313.9366106469399,\n",
              " 'Valid r2_score': 0.03489979356081463,\n",
              " 'Valid rmsle': 0.6957006593261873}"
            ]
          },
          "metadata": {
            "tags": []
          },
          "execution_count": 24
        }
      ]
    },
    {
      "cell_type": "markdown",
      "metadata": {
        "id": "06g0hAcNYjRL"
      },
      "source": [
        "## Import Test data and evaluate the model and check the prediction"
      ]
    },
    {
      "cell_type": "code",
      "metadata": {
        "id": "5u_dk1B77Ro7"
      },
      "source": [
        "test_df = pd.read_excel(\"/content/drive/MyDrive/Books Data/Data_Test.xlsx\")"
      ],
      "execution_count": null,
      "outputs": []
    },
    {
      "cell_type": "code",
      "metadata": {
        "colab": {
          "base_uri": "https://localhost:8080/",
          "height": 738
        },
        "id": "01jG4HUwYz0G",
        "outputId": "f63bfd84-eeb9-4ced-908d-f75ef51c7c7a"
      },
      "source": [
        "test_df"
      ],
      "execution_count": null,
      "outputs": [
        {
          "output_type": "execute_result",
          "data": {
            "text/html": [
              "<div>\n",
              "<style scoped>\n",
              "    .dataframe tbody tr th:only-of-type {\n",
              "        vertical-align: middle;\n",
              "    }\n",
              "\n",
              "    .dataframe tbody tr th {\n",
              "        vertical-align: top;\n",
              "    }\n",
              "\n",
              "    .dataframe thead th {\n",
              "        text-align: right;\n",
              "    }\n",
              "</style>\n",
              "<table border=\"1\" class=\"dataframe\">\n",
              "  <thead>\n",
              "    <tr style=\"text-align: right;\">\n",
              "      <th></th>\n",
              "      <th>Title</th>\n",
              "      <th>Author</th>\n",
              "      <th>Edition</th>\n",
              "      <th>Reviews</th>\n",
              "      <th>Ratings</th>\n",
              "      <th>Synopsis</th>\n",
              "      <th>Genre</th>\n",
              "      <th>BookCategory</th>\n",
              "    </tr>\n",
              "  </thead>\n",
              "  <tbody>\n",
              "    <tr>\n",
              "      <th>0</th>\n",
              "      <td>The Complete Sherlock Holmes: 2 Boxes sets</td>\n",
              "      <td>Sir Arthur Conan Doyle</td>\n",
              "      <td>Mass Market Paperback,– 1 Oct 1986</td>\n",
              "      <td>4.4 out of 5 stars</td>\n",
              "      <td>960 customer reviews</td>\n",
              "      <td>A collection of entire body of work of the She...</td>\n",
              "      <td>Short Stories (Books)</td>\n",
              "      <td>Crime, Thriller &amp; Mystery</td>\n",
              "    </tr>\n",
              "    <tr>\n",
              "      <th>1</th>\n",
              "      <td>Learn Docker - Fundamentals of Docker 18.x: Ev...</td>\n",
              "      <td>Gabriel N. Schenker</td>\n",
              "      <td>Paperback,– Import, 26 Apr 2018</td>\n",
              "      <td>5.0 out of 5 stars</td>\n",
              "      <td>1 customer review</td>\n",
              "      <td>Enhance your software deployment workflow usin...</td>\n",
              "      <td>Operating Systems Textbooks</td>\n",
              "      <td>Computing, Internet &amp; Digital Media</td>\n",
              "    </tr>\n",
              "    <tr>\n",
              "      <th>2</th>\n",
              "      <td>Big Girl</td>\n",
              "      <td>Danielle Steel</td>\n",
              "      <td>Paperback,– 17 Mar 2011</td>\n",
              "      <td>5.0 out of 5 stars</td>\n",
              "      <td>4 customer reviews</td>\n",
              "      <td>'Watch out, world. Here I come!'\\nFor Victoria...</td>\n",
              "      <td>Romance (Books)</td>\n",
              "      <td>Romance</td>\n",
              "    </tr>\n",
              "    <tr>\n",
              "      <th>3</th>\n",
              "      <td>Think Python: How to Think Like a Computer Sci...</td>\n",
              "      <td>Allen B. Downey</td>\n",
              "      <td>Paperback,– 2016</td>\n",
              "      <td>4.1 out of 5 stars</td>\n",
              "      <td>11 customer reviews</td>\n",
              "      <td>If you want to learn how to program, working w...</td>\n",
              "      <td>Programming &amp; Software Development (Books)</td>\n",
              "      <td>Computing, Internet &amp; Digital Media</td>\n",
              "    </tr>\n",
              "    <tr>\n",
              "      <th>4</th>\n",
              "      <td>Oxford Word Skills: Advanced - Idioms &amp; Phrasa...</td>\n",
              "      <td>Redman Gairns</td>\n",
              "      <td>Paperback,– 26 Dec 2011</td>\n",
              "      <td>4.4 out of 5 stars</td>\n",
              "      <td>9 customer reviews</td>\n",
              "      <td>Learn and practise the verbs, prepositions and...</td>\n",
              "      <td>Linguistics (Books)</td>\n",
              "      <td>Language, Linguistics &amp; Writing</td>\n",
              "    </tr>\n",
              "    <tr>\n",
              "      <th>...</th>\n",
              "      <td>...</td>\n",
              "      <td>...</td>\n",
              "      <td>...</td>\n",
              "      <td>...</td>\n",
              "      <td>...</td>\n",
              "      <td>...</td>\n",
              "      <td>...</td>\n",
              "      <td>...</td>\n",
              "    </tr>\n",
              "    <tr>\n",
              "      <th>1555</th>\n",
              "      <td>100 Things Every Designer Needs to Know About ...</td>\n",
              "      <td>Susan Weinschenk</td>\n",
              "      <td>Paperback,– 14 Apr 2011</td>\n",
              "      <td>5.0 out of 5 stars</td>\n",
              "      <td>4 customer reviews</td>\n",
              "      <td>We design to elicit responses from people. We ...</td>\n",
              "      <td>Design</td>\n",
              "      <td>Computing, Internet &amp; Digital Media</td>\n",
              "    </tr>\n",
              "    <tr>\n",
              "      <th>1556</th>\n",
              "      <td>Modern Letter Writing Course: Personal, Busine...</td>\n",
              "      <td>ARUN SAGAR</td>\n",
              "      <td>Paperback,– 8 May 2013</td>\n",
              "      <td>3.6 out of 5 stars</td>\n",
              "      <td>13 customer reviews</td>\n",
              "      <td>A 30-day course to write simple, sharp and att...</td>\n",
              "      <td>Children's Reference (Books)</td>\n",
              "      <td>Biographies, Diaries &amp; True Accounts</td>\n",
              "    </tr>\n",
              "    <tr>\n",
              "      <th>1557</th>\n",
              "      <td>The Kite Runner Graphic Novel</td>\n",
              "      <td>Khaled Hosseini</td>\n",
              "      <td>Paperback,– 6 Sep 2011</td>\n",
              "      <td>4.0 out of 5 stars</td>\n",
              "      <td>5 customer reviews</td>\n",
              "      <td>The perennial bestseller-now available as a se...</td>\n",
              "      <td>Humour (Books)</td>\n",
              "      <td>Humour</td>\n",
              "    </tr>\n",
              "    <tr>\n",
              "      <th>1558</th>\n",
              "      <td>Panzer Leader (Penguin World War II Collection)</td>\n",
              "      <td>Heinz Guderian</td>\n",
              "      <td>Paperback,– 22 Sep 2009</td>\n",
              "      <td>3.5 out of 5 stars</td>\n",
              "      <td>3 customer reviews</td>\n",
              "      <td>Heinz Guderian - master of the Blitzkrieg and ...</td>\n",
              "      <td>United States History</td>\n",
              "      <td>Biographies, Diaries &amp; True Accounts</td>\n",
              "    </tr>\n",
              "    <tr>\n",
              "      <th>1559</th>\n",
              "      <td>Complete Spanish Step-by-Step</td>\n",
              "      <td>Barbara Bregstein</td>\n",
              "      <td>Paperback,– 16 Sep 2016</td>\n",
              "      <td>4.5 out of 5 stars</td>\n",
              "      <td>2 customer reviews</td>\n",
              "      <td>Learn Spanish with the most convenient and eff...</td>\n",
              "      <td>Dictionaries</td>\n",
              "      <td>Language, Linguistics &amp; Writing</td>\n",
              "    </tr>\n",
              "  </tbody>\n",
              "</table>\n",
              "<p>1560 rows × 8 columns</p>\n",
              "</div>"
            ],
            "text/plain": [
              "                                                  Title  ...                          BookCategory\n",
              "0            The Complete Sherlock Holmes: 2 Boxes sets  ...             Crime, Thriller & Mystery\n",
              "1     Learn Docker - Fundamentals of Docker 18.x: Ev...  ...   Computing, Internet & Digital Media\n",
              "2                                              Big Girl  ...                               Romance\n",
              "3     Think Python: How to Think Like a Computer Sci...  ...   Computing, Internet & Digital Media\n",
              "4     Oxford Word Skills: Advanced - Idioms & Phrasa...  ...       Language, Linguistics & Writing\n",
              "...                                                 ...  ...                                   ...\n",
              "1555  100 Things Every Designer Needs to Know About ...  ...   Computing, Internet & Digital Media\n",
              "1556  Modern Letter Writing Course: Personal, Busine...  ...  Biographies, Diaries & True Accounts\n",
              "1557                      The Kite Runner Graphic Novel  ...                                Humour\n",
              "1558    Panzer Leader (Penguin World War II Collection)  ...  Biographies, Diaries & True Accounts\n",
              "1559                      Complete Spanish Step-by-Step  ...       Language, Linguistics & Writing\n",
              "\n",
              "[1560 rows x 8 columns]"
            ]
          },
          "metadata": {
            "tags": []
          },
          "execution_count": 26
        }
      ]
    },
    {
      "cell_type": "code",
      "metadata": {
        "colab": {
          "base_uri": "https://localhost:8080/"
        },
        "id": "_HCrBgxJY03p",
        "outputId": "e59f32f7-e263-472d-f7c2-85e880fdf94c"
      },
      "source": [
        "test_df.info()"
      ],
      "execution_count": null,
      "outputs": [
        {
          "output_type": "stream",
          "text": [
            "<class 'pandas.core.frame.DataFrame'>\n",
            "RangeIndex: 1560 entries, 0 to 1559\n",
            "Data columns (total 8 columns):\n",
            " #   Column        Non-Null Count  Dtype \n",
            "---  ------        --------------  ----- \n",
            " 0   Title         1560 non-null   object\n",
            " 1   Author        1560 non-null   object\n",
            " 2   Edition       1560 non-null   object\n",
            " 3   Reviews       1560 non-null   object\n",
            " 4   Ratings       1560 non-null   object\n",
            " 5   Synopsis      1560 non-null   object\n",
            " 6   Genre         1560 non-null   object\n",
            " 7   BookCategory  1560 non-null   object\n",
            "dtypes: object(8)\n",
            "memory usage: 97.6+ KB\n"
          ],
          "name": "stdout"
        }
      ]
    },
    {
      "cell_type": "code",
      "metadata": {
        "colab": {
          "base_uri": "https://localhost:8080/"
        },
        "id": "1uIJPbo5Y4OV",
        "outputId": "f81d3ce8-fe0a-40b0-c98c-a4e93ad47a81"
      },
      "source": [
        "test_df.isna().sum()"
      ],
      "execution_count": null,
      "outputs": [
        {
          "output_type": "execute_result",
          "data": {
            "text/plain": [
              "Title           0\n",
              "Author          0\n",
              "Edition         0\n",
              "Reviews         0\n",
              "Ratings         0\n",
              "Synopsis        0\n",
              "Genre           0\n",
              "BookCategory    0\n",
              "dtype: int64"
            ]
          },
          "metadata": {
            "tags": []
          },
          "execution_count": 28
        }
      ]
    },
    {
      "cell_type": "markdown",
      "metadata": {
        "id": "FBirUCZtY_do"
      },
      "source": [
        "### Create a function that will preprocess the test data as same as training data"
      ]
    },
    {
      "cell_type": "code",
      "metadata": {
        "id": "DwRdd4QVY8eR"
      },
      "source": [
        "def preprocess_data(df):\r\n",
        "  for label, content in df.items():\r\n",
        "    if pd.api.types.is_string_dtype(content):\r\n",
        "      df[label] = content.astype(\"category\").cat.as_ordered()\r\n",
        "      df[label] = pd.Categorical(content).codes+1\r\n",
        "  return df"
      ],
      "execution_count": null,
      "outputs": []
    },
    {
      "cell_type": "code",
      "metadata": {
        "colab": {
          "base_uri": "https://localhost:8080/",
          "height": 402
        },
        "id": "WdO1Yn0GZ5yo",
        "outputId": "b7406f8c-1303-450a-a564-7b5d2600ce37"
      },
      "source": [
        "df_test = preprocess_data(test_df)\r\n",
        "df_test"
      ],
      "execution_count": null,
      "outputs": [
        {
          "output_type": "execute_result",
          "data": {
            "text/html": [
              "<div>\n",
              "<style scoped>\n",
              "    .dataframe tbody tr th:only-of-type {\n",
              "        vertical-align: middle;\n",
              "    }\n",
              "\n",
              "    .dataframe tbody tr th {\n",
              "        vertical-align: top;\n",
              "    }\n",
              "\n",
              "    .dataframe thead th {\n",
              "        text-align: right;\n",
              "    }\n",
              "</style>\n",
              "<table border=\"1\" class=\"dataframe\">\n",
              "  <thead>\n",
              "    <tr style=\"text-align: right;\">\n",
              "      <th></th>\n",
              "      <th>Title</th>\n",
              "      <th>Author</th>\n",
              "      <th>Edition</th>\n",
              "      <th>Reviews</th>\n",
              "      <th>Ratings</th>\n",
              "      <th>Synopsis</th>\n",
              "      <th>Genre</th>\n",
              "      <th>BookCategory</th>\n",
              "    </tr>\n",
              "  </thead>\n",
              "  <tbody>\n",
              "    <tr>\n",
              "      <th>0</th>\n",
              "      <td>1143</td>\n",
              "      <td>1072</td>\n",
              "      <td>228</td>\n",
              "      <td>24</td>\n",
              "      <td>161</td>\n",
              "      <td>128</td>\n",
              "      <td>190</td>\n",
              "      <td>6</td>\n",
              "    </tr>\n",
              "    <tr>\n",
              "      <th>1</th>\n",
              "      <td>666</td>\n",
              "      <td>357</td>\n",
              "      <td>1167</td>\n",
              "      <td>30</td>\n",
              "      <td>1</td>\n",
              "      <td>467</td>\n",
              "      <td>164</td>\n",
              "      <td>5</td>\n",
              "    </tr>\n",
              "    <tr>\n",
              "      <th>2</th>\n",
              "      <td>185</td>\n",
              "      <td>240</td>\n",
              "      <td>513</td>\n",
              "      <td>30</td>\n",
              "      <td>93</td>\n",
              "      <td>64</td>\n",
              "      <td>186</td>\n",
              "      <td>10</td>\n",
              "    </tr>\n",
              "    <tr>\n",
              "      <th>3</th>\n",
              "      <td>1395</td>\n",
              "      <td>46</td>\n",
              "      <td>639</td>\n",
              "      <td>21</td>\n",
              "      <td>9</td>\n",
              "      <td>647</td>\n",
              "      <td>175</td>\n",
              "      <td>5</td>\n",
              "    </tr>\n",
              "    <tr>\n",
              "      <th>4</th>\n",
              "      <td>863</td>\n",
              "      <td>934</td>\n",
              "      <td>746</td>\n",
              "      <td>24</td>\n",
              "      <td>155</td>\n",
              "      <td>781</td>\n",
              "      <td>144</td>\n",
              "      <td>8</td>\n",
              "    </tr>\n",
              "    <tr>\n",
              "      <th>...</th>\n",
              "      <td>...</td>\n",
              "      <td>...</td>\n",
              "      <td>...</td>\n",
              "      <td>...</td>\n",
              "      <td>...</td>\n",
              "      <td>...</td>\n",
              "      <td>...</td>\n",
              "      <td>...</td>\n",
              "    </tr>\n",
              "    <tr>\n",
              "      <th>1555</th>\n",
              "      <td>4</td>\n",
              "      <td>1119</td>\n",
              "      <td>426</td>\n",
              "      <td>30</td>\n",
              "      <td>93</td>\n",
              "      <td>1400</td>\n",
              "      <td>74</td>\n",
              "      <td>5</td>\n",
              "    </tr>\n",
              "    <tr>\n",
              "      <th>1556</th>\n",
              "      <td>755</td>\n",
              "      <td>8</td>\n",
              "      <td>1065</td>\n",
              "      <td>16</td>\n",
              "      <td>19</td>\n",
              "      <td>86</td>\n",
              "      <td>49</td>\n",
              "      <td>3</td>\n",
              "    </tr>\n",
              "    <tr>\n",
              "      <th>1557</th>\n",
              "      <td>1222</td>\n",
              "      <td>601</td>\n",
              "      <td>1016</td>\n",
              "      <td>20</td>\n",
              "      <td>110</td>\n",
              "      <td>1199</td>\n",
              "      <td>124</td>\n",
              "      <td>7</td>\n",
              "    </tr>\n",
              "    <tr>\n",
              "      <th>1558</th>\n",
              "      <td>874</td>\n",
              "      <td>417</td>\n",
              "      <td>666</td>\n",
              "      <td>15</td>\n",
              "      <td>77</td>\n",
              "      <td>611</td>\n",
              "      <td>219</td>\n",
              "      <td>3</td>\n",
              "    </tr>\n",
              "    <tr>\n",
              "      <th>1559</th>\n",
              "      <td>279</td>\n",
              "      <td>117</td>\n",
              "      <td>497</td>\n",
              "      <td>25</td>\n",
              "      <td>48</td>\n",
              "      <td>779</td>\n",
              "      <td>77</td>\n",
              "      <td>8</td>\n",
              "    </tr>\n",
              "  </tbody>\n",
              "</table>\n",
              "<p>1560 rows × 8 columns</p>\n",
              "</div>"
            ],
            "text/plain": [
              "      Title  Author  Edition  Reviews  Ratings  Synopsis  Genre  BookCategory\n",
              "0      1143    1072      228       24      161       128    190             6\n",
              "1       666     357     1167       30        1       467    164             5\n",
              "2       185     240      513       30       93        64    186            10\n",
              "3      1395      46      639       21        9       647    175             5\n",
              "4       863     934      746       24      155       781    144             8\n",
              "...     ...     ...      ...      ...      ...       ...    ...           ...\n",
              "1555      4    1119      426       30       93      1400     74             5\n",
              "1556    755       8     1065       16       19        86     49             3\n",
              "1557   1222     601     1016       20      110      1199    124             7\n",
              "1558    874     417      666       15       77       611    219             3\n",
              "1559    279     117      497       25       48       779     77             8\n",
              "\n",
              "[1560 rows x 8 columns]"
            ]
          },
          "metadata": {
            "tags": []
          },
          "execution_count": 33
        }
      ]
    },
    {
      "cell_type": "code",
      "metadata": {
        "colab": {
          "base_uri": "https://localhost:8080/",
          "height": 402
        },
        "id": "WBQT9Q3bZ9N3",
        "outputId": "a6a2c6ae-292f-4cde-8044-1c45b7cdaff8"
      },
      "source": [
        "X_train"
      ],
      "execution_count": null,
      "outputs": [
        {
          "output_type": "execute_result",
          "data": {
            "text/html": [
              "<div>\n",
              "<style scoped>\n",
              "    .dataframe tbody tr th:only-of-type {\n",
              "        vertical-align: middle;\n",
              "    }\n",
              "\n",
              "    .dataframe tbody tr th {\n",
              "        vertical-align: top;\n",
              "    }\n",
              "\n",
              "    .dataframe thead th {\n",
              "        text-align: right;\n",
              "    }\n",
              "</style>\n",
              "<table border=\"1\" class=\"dataframe\">\n",
              "  <thead>\n",
              "    <tr style=\"text-align: right;\">\n",
              "      <th></th>\n",
              "      <th>Title</th>\n",
              "      <th>Author</th>\n",
              "      <th>Edition</th>\n",
              "      <th>Reviews</th>\n",
              "      <th>Ratings</th>\n",
              "      <th>Synopsis</th>\n",
              "      <th>Genre</th>\n",
              "      <th>BookCategory</th>\n",
              "    </tr>\n",
              "  </thead>\n",
              "  <tbody>\n",
              "    <tr>\n",
              "      <th>1025</th>\n",
              "      <td>1944</td>\n",
              "      <td>1801</td>\n",
              "      <td>2063</td>\n",
              "      <td>31</td>\n",
              "      <td>301</td>\n",
              "      <td>1934</td>\n",
              "      <td>94</td>\n",
              "      <td>2</td>\n",
              "    </tr>\n",
              "    <tr>\n",
              "      <th>2977</th>\n",
              "      <td>4475</td>\n",
              "      <td>1414</td>\n",
              "      <td>2661</td>\n",
              "      <td>32</td>\n",
              "      <td>301</td>\n",
              "      <td>1955</td>\n",
              "      <td>89</td>\n",
              "      <td>5</td>\n",
              "    </tr>\n",
              "    <tr>\n",
              "      <th>5001</th>\n",
              "      <td>2515</td>\n",
              "      <td>1875</td>\n",
              "      <td>1491</td>\n",
              "      <td>30</td>\n",
              "      <td>228</td>\n",
              "      <td>2855</td>\n",
              "      <td>134</td>\n",
              "      <td>10</td>\n",
              "    </tr>\n",
              "    <tr>\n",
              "      <th>3318</th>\n",
              "      <td>1888</td>\n",
              "      <td>2128</td>\n",
              "      <td>1367</td>\n",
              "      <td>36</td>\n",
              "      <td>1</td>\n",
              "      <td>4281</td>\n",
              "      <td>329</td>\n",
              "      <td>11</td>\n",
              "    </tr>\n",
              "    <tr>\n",
              "      <th>4405</th>\n",
              "      <td>1210</td>\n",
              "      <td>2617</td>\n",
              "      <td>1117</td>\n",
              "      <td>31</td>\n",
              "      <td>94</td>\n",
              "      <td>574</td>\n",
              "      <td>83</td>\n",
              "      <td>7</td>\n",
              "    </tr>\n",
              "    <tr>\n",
              "      <th>...</th>\n",
              "      <td>...</td>\n",
              "      <td>...</td>\n",
              "      <td>...</td>\n",
              "      <td>...</td>\n",
              "      <td>...</td>\n",
              "      <td>...</td>\n",
              "      <td>...</td>\n",
              "      <td>...</td>\n",
              "    </tr>\n",
              "    <tr>\n",
              "      <th>3772</th>\n",
              "      <td>4571</td>\n",
              "      <td>2202</td>\n",
              "      <td>3140</td>\n",
              "      <td>36</td>\n",
              "      <td>107</td>\n",
              "      <td>4095</td>\n",
              "      <td>126</td>\n",
              "      <td>4</td>\n",
              "    </tr>\n",
              "    <tr>\n",
              "      <th>5191</th>\n",
              "      <td>3949</td>\n",
              "      <td>1619</td>\n",
              "      <td>1278</td>\n",
              "      <td>29</td>\n",
              "      <td>189</td>\n",
              "      <td>56</td>\n",
              "      <td>342</td>\n",
              "      <td>2</td>\n",
              "    </tr>\n",
              "    <tr>\n",
              "      <th>5226</th>\n",
              "      <td>1230</td>\n",
              "      <td>81</td>\n",
              "      <td>2302</td>\n",
              "      <td>36</td>\n",
              "      <td>107</td>\n",
              "      <td>683</td>\n",
              "      <td>219</td>\n",
              "      <td>4</td>\n",
              "    </tr>\n",
              "    <tr>\n",
              "      <th>5390</th>\n",
              "      <td>2849</td>\n",
              "      <td>2123</td>\n",
              "      <td>2684</td>\n",
              "      <td>36</td>\n",
              "      <td>238</td>\n",
              "      <td>3063</td>\n",
              "      <td>219</td>\n",
              "      <td>4</td>\n",
              "    </tr>\n",
              "    <tr>\n",
              "      <th>860</th>\n",
              "      <td>2756</td>\n",
              "      <td>2810</td>\n",
              "      <td>1193</td>\n",
              "      <td>36</td>\n",
              "      <td>1</td>\n",
              "      <td>4097</td>\n",
              "      <td>106</td>\n",
              "      <td>7</td>\n",
              "    </tr>\n",
              "  </tbody>\n",
              "</table>\n",
              "<p>4989 rows × 8 columns</p>\n",
              "</div>"
            ],
            "text/plain": [
              "      Title  Author  Edition  Reviews  Ratings  Synopsis  Genre  BookCategory\n",
              "1025   1944    1801     2063       31      301      1934     94             2\n",
              "2977   4475    1414     2661       32      301      1955     89             5\n",
              "5001   2515    1875     1491       30      228      2855    134            10\n",
              "3318   1888    2128     1367       36        1      4281    329            11\n",
              "4405   1210    2617     1117       31       94       574     83             7\n",
              "...     ...     ...      ...      ...      ...       ...    ...           ...\n",
              "3772   4571    2202     3140       36      107      4095    126             4\n",
              "5191   3949    1619     1278       29      189        56    342             2\n",
              "5226   1230      81     2302       36      107       683    219             4\n",
              "5390   2849    2123     2684       36      238      3063    219             4\n",
              "860    2756    2810     1193       36        1      4097    106             7\n",
              "\n",
              "[4989 rows x 8 columns]"
            ]
          },
          "metadata": {
            "tags": []
          },
          "execution_count": 34
        }
      ]
    },
    {
      "cell_type": "code",
      "metadata": {
        "id": "6eOkrvDOaQgE"
      },
      "source": [
        "test_preds = model.predict(df_test)"
      ],
      "execution_count": null,
      "outputs": []
    },
    {
      "cell_type": "code",
      "metadata": {
        "colab": {
          "base_uri": "https://localhost:8080/"
        },
        "id": "H2GB-jZQagW5",
        "outputId": "cf54b65d-d92a-4a87-ed46-d2bade885153"
      },
      "source": [
        "test_preds"
      ],
      "execution_count": null,
      "outputs": [
        {
          "output_type": "execute_result",
          "data": {
            "text/plain": [
              "array([ 603.337 , 1410.1978, 1026.5582, ...,  431.435 ,  508.5492,\n",
              "        872.8319])"
            ]
          },
          "metadata": {
            "tags": []
          },
          "execution_count": 36
        }
      ]
    },
    {
      "cell_type": "markdown",
      "metadata": {
        "id": "ZtYxLwiKcJHx"
      },
      "source": [
        "## Hyperparameter Tuning with RandomizedSearchCV"
      ]
    },
    {
      "cell_type": "code",
      "metadata": {
        "colab": {
          "base_uri": "https://localhost:8080/"
        },
        "id": "nyc10TucaiFE",
        "outputId": "7343f713-3c1b-4a49-fc49-e1cc278103bb"
      },
      "source": [
        "%%time\r\n",
        "\r\n",
        "from sklearn.model_selection import RandomizedSearchCV\r\n",
        "\r\n",
        "rf_grid = {\"n_estimators\": np.arange(10, 100, 10),\r\n",
        "          \"max_depth\": [None, 3, 5, 10],\r\n",
        "          \"min_samples_split\": np.arange(2, 20, 2),\r\n",
        "          \"min_samples_leaf\": np.arange(1, 20, 2),\r\n",
        "          \"max_features\": [0.5, 1, \"sqrt\", \"auto\"]}\r\n",
        "\r\n",
        "rs_model = RandomizedSearchCV(RandomForestRegressor(n_jobs=-1,\r\n",
        "                                                    random_state=42),\r\n",
        "                              param_distributions = rf_grid,\r\n",
        "                              n_iter = 10,\r\n",
        "                              cv=5,\r\n",
        "                              verbose = True)\r\n",
        "rs_model.fit(X_train, y_train)"
      ],
      "execution_count": null,
      "outputs": [
        {
          "output_type": "stream",
          "text": [
            "Fitting 5 folds for each of 10 candidates, totalling 50 fits\n"
          ],
          "name": "stdout"
        },
        {
          "output_type": "stream",
          "text": [
            "[Parallel(n_jobs=1)]: Using backend SequentialBackend with 1 concurrent workers.\n",
            "[Parallel(n_jobs=1)]: Done  50 out of  50 | elapsed:   23.4s finished\n"
          ],
          "name": "stderr"
        },
        {
          "output_type": "stream",
          "text": [
            "CPU times: user 7.93 s, sys: 451 ms, total: 8.38 s\n",
            "Wall time: 24.2 s\n"
          ],
          "name": "stdout"
        }
      ]
    },
    {
      "cell_type": "code",
      "metadata": {
        "colab": {
          "base_uri": "https://localhost:8080/"
        },
        "id": "dYpz_rHSdGqX",
        "outputId": "12c46a23-4bca-45d3-be32-68dc19ef879b"
      },
      "source": [
        "show_scores(rs_model)"
      ],
      "execution_count": null,
      "outputs": [
        {
          "output_type": "execute_result",
          "data": {
            "text/plain": [
              "{'Training MAE': 246.17339781310667,\n",
              " 'Training r2_score': 0.5092934601387642,\n",
              " 'Training rmsle': 0.6026770193330087,\n",
              " 'Valid MAE': 311.01326497995746,\n",
              " 'Valid r2_score': 0.13774274537662257,\n",
              " 'Valid rmsle': 0.6966609412221154}"
            ]
          },
          "metadata": {
            "tags": []
          },
          "execution_count": 44
        }
      ]
    },
    {
      "cell_type": "code",
      "metadata": {
        "colab": {
          "base_uri": "https://localhost:8080/"
        },
        "id": "tU1vwMgLdVRb",
        "outputId": "e252eeff-da0b-4ddc-d452-20765e161853"
      },
      "source": [
        "%%time\r\n",
        "ideal_model = RandomForestRegressor(n_estimators=20,\r\n",
        "                                   min_samples_leaf=9,\r\n",
        "                                   min_samples_split=2,\r\n",
        "                                   max_features='auto',\r\n",
        "                                   n_jobs=-1,\r\n",
        "                                   random_state=42)\r\n",
        "ideal_model.fit(X_train, y_train)"
      ],
      "execution_count": null,
      "outputs": [
        {
          "output_type": "stream",
          "text": [
            "CPU times: user 569 ms, sys: 5.57 ms, total: 574 ms\n",
            "Wall time: 317 ms\n"
          ],
          "name": "stdout"
        }
      ]
    },
    {
      "cell_type": "code",
      "metadata": {
        "colab": {
          "base_uri": "https://localhost:8080/"
        },
        "id": "ifT-o4s4fM3Z",
        "outputId": "f1c53b0d-4773-47e8-aa4b-fe70b1281ae0"
      },
      "source": [
        "show_scores(ideal_model)"
      ],
      "execution_count": null,
      "outputs": [
        {
          "output_type": "execute_result",
          "data": {
            "text/plain": [
              "{'Training MAE': 251.14639752670496,\n",
              " 'Training r2_score': 0.3857105087863475,\n",
              " 'Training rmsle': 0.5825306152480201,\n",
              " 'Valid MAE': 309.5681623758029,\n",
              " 'Valid r2_score': 0.12317756177492623,\n",
              " 'Valid rmsle': 0.6938098634565163}"
            ]
          },
          "metadata": {
            "tags": []
          },
          "execution_count": 46
        }
      ]
    },
    {
      "cell_type": "code",
      "metadata": {
        "id": "LB90JNU0fP4l"
      },
      "source": [
        "test1_preds = ideal_model.predict(df_test)"
      ],
      "execution_count": null,
      "outputs": []
    },
    {
      "cell_type": "code",
      "metadata": {
        "colab": {
          "base_uri": "https://localhost:8080/"
        },
        "id": "fqK9yS1nfetH",
        "outputId": "f14b3854-e0b1-4cab-8597-973ca704adb7"
      },
      "source": [
        "test1_preds"
      ],
      "execution_count": null,
      "outputs": [
        {
          "output_type": "execute_result",
          "data": {
            "text/plain": [
              "array([753.73666622, 783.07083252, 749.58133959, ..., 441.33400285,\n",
              "       399.72647079, 761.78237148])"
            ]
          },
          "metadata": {
            "tags": []
          },
          "execution_count": 48
        }
      ]
    },
    {
      "cell_type": "code",
      "metadata": {
        "colab": {
          "base_uri": "https://localhost:8080/",
          "height": 402
        },
        "id": "vZRmmbL-gMKF",
        "outputId": "0bb1cfa5-1d57-43c9-fdc6-a7acd8aa0456"
      },
      "source": [
        "test_submission = pd.DataFrame(test1_preds)\r\n",
        "test_submission"
      ],
      "execution_count": null,
      "outputs": [
        {
          "output_type": "execute_result",
          "data": {
            "text/html": [
              "<div>\n",
              "<style scoped>\n",
              "    .dataframe tbody tr th:only-of-type {\n",
              "        vertical-align: middle;\n",
              "    }\n",
              "\n",
              "    .dataframe tbody tr th {\n",
              "        vertical-align: top;\n",
              "    }\n",
              "\n",
              "    .dataframe thead th {\n",
              "        text-align: right;\n",
              "    }\n",
              "</style>\n",
              "<table border=\"1\" class=\"dataframe\">\n",
              "  <thead>\n",
              "    <tr style=\"text-align: right;\">\n",
              "      <th></th>\n",
              "      <th>0</th>\n",
              "    </tr>\n",
              "  </thead>\n",
              "  <tbody>\n",
              "    <tr>\n",
              "      <th>0</th>\n",
              "      <td>753.736666</td>\n",
              "    </tr>\n",
              "    <tr>\n",
              "      <th>1</th>\n",
              "      <td>783.070833</td>\n",
              "    </tr>\n",
              "    <tr>\n",
              "      <th>2</th>\n",
              "      <td>749.581340</td>\n",
              "    </tr>\n",
              "    <tr>\n",
              "      <th>3</th>\n",
              "      <td>657.018884</td>\n",
              "    </tr>\n",
              "    <tr>\n",
              "      <th>4</th>\n",
              "      <td>301.529229</td>\n",
              "    </tr>\n",
              "    <tr>\n",
              "      <th>...</th>\n",
              "      <td>...</td>\n",
              "    </tr>\n",
              "    <tr>\n",
              "      <th>1555</th>\n",
              "      <td>1125.901619</td>\n",
              "    </tr>\n",
              "    <tr>\n",
              "      <th>1556</th>\n",
              "      <td>458.798174</td>\n",
              "    </tr>\n",
              "    <tr>\n",
              "      <th>1557</th>\n",
              "      <td>441.334003</td>\n",
              "    </tr>\n",
              "    <tr>\n",
              "      <th>1558</th>\n",
              "      <td>399.726471</td>\n",
              "    </tr>\n",
              "    <tr>\n",
              "      <th>1559</th>\n",
              "      <td>761.782371</td>\n",
              "    </tr>\n",
              "  </tbody>\n",
              "</table>\n",
              "<p>1560 rows × 1 columns</p>\n",
              "</div>"
            ],
            "text/plain": [
              "                0\n",
              "0      753.736666\n",
              "1      783.070833\n",
              "2      749.581340\n",
              "3      657.018884\n",
              "4      301.529229\n",
              "...           ...\n",
              "1555  1125.901619\n",
              "1556   458.798174\n",
              "1557   441.334003\n",
              "1558   399.726471\n",
              "1559   761.782371\n",
              "\n",
              "[1560 rows x 1 columns]"
            ]
          },
          "metadata": {
            "tags": []
          },
          "execution_count": 54
        }
      ]
    },
    {
      "cell_type": "code",
      "metadata": {
        "id": "z55R-0pDf3QP"
      },
      "source": [
        "test_submission.to_csv(\"/content/drive/MyDrive/Books Data/test_submission.csv\", index = False)"
      ],
      "execution_count": null,
      "outputs": []
    },
    {
      "cell_type": "code",
      "metadata": {
        "id": "0b6GSsaBgYAa"
      },
      "source": [
        ""
      ],
      "execution_count": null,
      "outputs": []
    }
  ]
}